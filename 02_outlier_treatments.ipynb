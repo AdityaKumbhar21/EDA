{
 "cells": [
  {
   "cell_type": "markdown",
   "id": "a296349e",
   "metadata": {},
   "source": [
    "# **Outlier Treatment**"
   ]
  },
  {
   "cell_type": "code",
   "execution_count": 11,
   "id": "5113c2a7",
   "metadata": {},
   "outputs": [],
   "source": [
    "import pandas as pd\n",
    "import numpy as np\n",
    "import matplotlib.pyplot as plt\n",
    "import statistics\n",
    "import seaborn as sns"
   ]
  },
  {
   "cell_type": "code",
   "execution_count": 2,
   "id": "b8d03a71",
   "metadata": {},
   "outputs": [
    {
     "data": {
      "text/html": [
       "<div>\n",
       "<style scoped>\n",
       "    .dataframe tbody tr th:only-of-type {\n",
       "        vertical-align: middle;\n",
       "    }\n",
       "\n",
       "    .dataframe tbody tr th {\n",
       "        vertical-align: top;\n",
       "    }\n",
       "\n",
       "    .dataframe thead th {\n",
       "        text-align: right;\n",
       "    }\n",
       "</style>\n",
       "<table border=\"1\" class=\"dataframe\">\n",
       "  <thead>\n",
       "    <tr style=\"text-align: right;\">\n",
       "      <th></th>\n",
       "      <th>datesold</th>\n",
       "      <th>postcode</th>\n",
       "      <th>price</th>\n",
       "      <th>propertyType</th>\n",
       "      <th>bedrooms</th>\n",
       "    </tr>\n",
       "  </thead>\n",
       "  <tbody>\n",
       "    <tr>\n",
       "      <th>0</th>\n",
       "      <td>2007-02-07 00:00:00</td>\n",
       "      <td>2607</td>\n",
       "      <td>525000</td>\n",
       "      <td>house</td>\n",
       "      <td>4</td>\n",
       "    </tr>\n",
       "    <tr>\n",
       "      <th>1</th>\n",
       "      <td>2007-02-27 00:00:00</td>\n",
       "      <td>2906</td>\n",
       "      <td>290000</td>\n",
       "      <td>house</td>\n",
       "      <td>3</td>\n",
       "    </tr>\n",
       "    <tr>\n",
       "      <th>2</th>\n",
       "      <td>2007-03-07 00:00:00</td>\n",
       "      <td>2905</td>\n",
       "      <td>328000</td>\n",
       "      <td>house</td>\n",
       "      <td>3</td>\n",
       "    </tr>\n",
       "    <tr>\n",
       "      <th>3</th>\n",
       "      <td>2007-03-09 00:00:00</td>\n",
       "      <td>2905</td>\n",
       "      <td>380000</td>\n",
       "      <td>house</td>\n",
       "      <td>4</td>\n",
       "    </tr>\n",
       "    <tr>\n",
       "      <th>4</th>\n",
       "      <td>2007-03-21 00:00:00</td>\n",
       "      <td>2906</td>\n",
       "      <td>310000</td>\n",
       "      <td>house</td>\n",
       "      <td>3</td>\n",
       "    </tr>\n",
       "  </tbody>\n",
       "</table>\n",
       "</div>"
      ],
      "text/plain": [
       "              datesold  postcode   price propertyType  bedrooms\n",
       "0  2007-02-07 00:00:00      2607  525000        house         4\n",
       "1  2007-02-27 00:00:00      2906  290000        house         3\n",
       "2  2007-03-07 00:00:00      2905  328000        house         3\n",
       "3  2007-03-09 00:00:00      2905  380000        house         4\n",
       "4  2007-03-21 00:00:00      2906  310000        house         3"
      ]
     },
     "execution_count": 2,
     "metadata": {},
     "output_type": "execute_result"
    }
   ],
   "source": [
    "df = pd.read_csv('/Users/adityakumbhar/Developer/Datasets/raw_sales.csv')\n",
    "df.head()"
   ]
  },
  {
   "cell_type": "code",
   "execution_count": 3,
   "id": "449a7451",
   "metadata": {},
   "outputs": [
    {
     "name": "stdout",
     "output_type": "stream",
     "text": [
      "<class 'pandas.core.frame.DataFrame'>\n",
      "RangeIndex: 29580 entries, 0 to 29579\n",
      "Data columns (total 5 columns):\n",
      " #   Column        Non-Null Count  Dtype \n",
      "---  ------        --------------  ----- \n",
      " 0   datesold      29580 non-null  object\n",
      " 1   postcode      29580 non-null  int64 \n",
      " 2   price         29580 non-null  int64 \n",
      " 3   propertyType  29580 non-null  object\n",
      " 4   bedrooms      29580 non-null  int64 \n",
      "dtypes: int64(3), object(2)\n",
      "memory usage: 1.1+ MB\n"
     ]
    }
   ],
   "source": [
    "df.info()"
   ]
  },
  {
   "cell_type": "markdown",
   "id": "5f89d583",
   "metadata": {},
   "source": [
    "## **Outlier Detection**"
   ]
  },
  {
   "cell_type": "markdown",
   "id": "06f8eff2",
   "metadata": {},
   "source": [
    "### **Z-score Technique**"
   ]
  },
  {
   "cell_type": "code",
   "execution_count": 4,
   "id": "cd78a578",
   "metadata": {},
   "outputs": [],
   "source": [
    "# defining function to find anamolies\n",
    "def find_anamolies(data):\n",
    "\n",
    "    anamolies = []\n",
    "\n",
    "    # calculating mean and standard deviation\n",
    "    random_data_std_dev = statistics.stdev(data)\n",
    "    random_data_mean = statistics.mean(data)\n",
    "\n",
    "    # calculating the limits\n",
    "    random_data_limit = random_data_std_dev * 3 # 3 sigma\n",
    "    lower_limit = random_data_mean - random_data_limit\n",
    "    upper_limit = random_data_mean + random_data_limit\n",
    "\n",
    "    for outlier in data:\n",
    "        if(outlier > upper_limit or outlier < lower_limit):\n",
    "            anamolies.append(outlier)\n",
    "    \n",
    "    return anamolies"
   ]
  },
  {
   "cell_type": "code",
   "execution_count": 5,
   "id": "eb1c5e6f",
   "metadata": {},
   "outputs": [
    {
     "data": {
      "text/plain": [
       "0    525000\n",
       "1    290000\n",
       "2    328000\n",
       "3    380000\n",
       "4    310000\n",
       "Name: price, dtype: int64"
      ]
     },
     "execution_count": 5,
     "metadata": {},
     "output_type": "execute_result"
    }
   ],
   "source": [
    "df.price.head()"
   ]
  },
  {
   "cell_type": "code",
   "execution_count": 6,
   "id": "4e70dbb1",
   "metadata": {},
   "outputs": [
    {
     "data": {
      "text/plain": [
       "461"
      ]
     },
     "execution_count": 6,
     "metadata": {},
     "output_type": "execute_result"
    }
   ],
   "source": [
    "anamolies = find_anamolies(df.price)\n",
    "len(anamolies)"
   ]
  },
  {
   "cell_type": "code",
   "execution_count": 10,
   "id": "bae3e155",
   "metadata": {},
   "outputs": [
    {
     "data": {
      "text/plain": [
       "4.312009366902366"
      ]
     },
     "execution_count": 10,
     "metadata": {},
     "output_type": "execute_result"
    }
   ],
   "source": [
    "float(df.price.skew())"
   ]
  },
  {
   "cell_type": "code",
   "execution_count": 12,
   "id": "4f4894d1",
   "metadata": {},
   "outputs": [
    {
     "data": {
      "text/plain": [
       "<Axes: xlabel='price', ylabel='Density'>"
      ]
     },
     "execution_count": 12,
     "metadata": {},
     "output_type": "execute_result"
    },
    {
     "data": {
      "image/png": "[encoded data removed]",
      "text/plain": [
       "<Figure size 640x480 with 1 Axes>"
      ]
     },
     "metadata": {},
     "output_type": "display_data"
    }
   ],
   "source": [
    "sns.kdeplot(df.price)"
   ]
  },
  {
   "cell_type": "markdown",
   "id": "28b17902",
   "metadata": {},
   "source": [
    "Transforming data"
   ]
  },
  {
   "cell_type": "code",
   "execution_count": 13,
   "id": "b14b7afc",
   "metadata": {},
   "outputs": [
    {
     "data": {
      "text/plain": [
       "0    13.171154\n",
       "1    12.577636\n",
       "2    12.700769\n",
       "3    12.847927\n",
       "4    12.644328\n",
       "Name: price_transformed, dtype: float64"
      ]
     },
     "execution_count": 13,
     "metadata": {},
     "output_type": "execute_result"
    }
   ],
   "source": [
    "df['price_transformed'] = np.log(df.price)\n",
    "df['price_transformed'].head()"
   ]
  },
  {
   "cell_type": "code",
   "execution_count": 14,
   "id": "d5790420",
   "metadata": {},
   "outputs": [
    {
     "data": {
      "text/plain": [
       "266"
      ]
     },
     "execution_count": 14,
     "metadata": {},
     "output_type": "execute_result"
    }
   ],
   "source": [
    "anamolies = find_anamolies(df['price_transformed'])\n",
    "len(anamolies)"
   ]
  },
  {
   "cell_type": "code",
   "execution_count": 15,
   "id": "01ca7ab8",
   "metadata": {},
   "outputs": [
    {
     "data": {
      "text/plain": [
       "0.4731646269984763"
      ]
     },
     "execution_count": 15,
     "metadata": {},
     "output_type": "execute_result"
    }
   ],
   "source": [
    "float(df.price_transformed.skew())"
   ]
  },
  {
   "cell_type": "code",
   "execution_count": 17,
   "id": "5551c740",
   "metadata": {},
   "outputs": [
    {
     "data": {
      "text/plain": [
       "<Axes: xlabel='price_transformed', ylabel='Density'>"
      ]
     },
     "execution_count": 17,
     "metadata": {},
     "output_type": "execute_result"
    },
    {
     "data": {
      "image/png": "[encoded data removed]",
      "text/plain": [
       "<Figure size 640x480 with 1 Axes>"
      ]
     },
     "metadata": {},
     "output_type": "display_data"
    }
   ],
   "source": [
    "sns.kdeplot(df.price_transformed)"
   ]
  },
  {
   "cell_type": "markdown",
   "id": "3c8a314c",
   "metadata": {},
   "source": [
    "Double Transformation"
   ]
  },
  {
   "cell_type": "code",
   "execution_count": 18,
   "id": "f76aff20",
   "metadata": {},
   "outputs": [
    {
     "data": {
      "text/plain": [
       "0    2.578029\n",
       "1    2.531920\n",
       "2    2.541663\n",
       "3    2.553182\n",
       "4    2.537209\n",
       "Name: price_double_transformed, dtype: float64"
      ]
     },
     "execution_count": 18,
     "metadata": {},
     "output_type": "execute_result"
    }
   ],
   "source": [
    "df['price_double_transformed'] = np.log(df['price_transformed'])\n",
    "df['price_double_transformed'].head()"
   ]
  },
  {
   "cell_type": "code",
   "execution_count": 20,
   "id": "ac502b14",
   "metadata": {},
   "outputs": [
    {
     "data": {
      "text/plain": [
       "0.33092530655758573"
      ]
     },
     "execution_count": 20,
     "metadata": {},
     "output_type": "execute_result"
    }
   ],
   "source": [
    "float(df['price_double_transformed'].skew())"
   ]
  },
  {
   "cell_type": "code",
   "execution_count": 21,
   "id": "54622aa3",
   "metadata": {},
   "outputs": [
    {
     "data": {
      "text/plain": [
       "<Axes: xlabel='price_double_transformed', ylabel='Density'>"
      ]
     },
     "execution_count": 21,
     "metadata": {},
     "output_type": "execute_result"
    },
    {
     "data": {
      "image/png": "[encoded data removed]",
      "text/plain": [
       "<Figure size 640x480 with 1 Axes>"
      ]
     },
     "metadata": {},
     "output_type": "display_data"
    }
   ],
   "source": [
    "sns.kdeplot(df['price_double_transformed'])"
   ]
  },
  {
   "cell_type": "markdown",
   "id": "2e1644e2",
   "metadata": {},
   "source": [
    "Somewhere around below 40 and 80 are considered to be outliers"
   ]
  },
  {
   "cell_type": "markdown",
   "id": "9ef35d4d",
   "metadata": {},
   "source": [
    "### **Box Plot Method**"
   ]
  },
  {
   "cell_type": "code",
   "execution_count": 22,
   "id": "0ac3feb4",
   "metadata": {},
   "outputs": [
    {
     "data": {
      "text/plain": [
       "<Axes: >"
      ]
     },
     "execution_count": 22,
     "metadata": {},
     "output_type": "execute_result"
    },
    {
     "data": {
      "image/png": "[encoded data removed]",
      "text/plain": [
       "<Figure size 640x480 with 1 Axes>"
      ]
     },
     "metadata": {},
     "output_type": "display_data"
    }
   ],
   "source": [
    "sns.boxplot(data=df)"
   ]
  },
  {
   "cell_type": "markdown",
   "id": "8c12f76a",
   "metadata": {},
   "source": [
    "Everything above 75 or below 25 is considered to be an outlier."
   ]
  },
  {
   "cell_type": "markdown",
   "id": "88357e77",
   "metadata": {},
   "source": [
    "### **IQR Method**"
   ]
  },
  {
   "cell_type": "code",
   "execution_count": 23,
   "id": "4d410c0f",
   "metadata": {},
   "outputs": [
    {
     "data": {
      "text/plain": [
       "25"
      ]
     },
     "execution_count": 23,
     "metadata": {},
     "output_type": "execute_result"
    }
   ],
   "source": [
    "list_1 = [12, 15, 14, 13, 16, 17, 14, 18, 15, 14, 16, 13, 15, 150, 13, 14, 15, 18, 14, 16, 13, 12, 17, 19, 200]\n",
    "len(list_1)"
   ]
  },
  {
   "cell_type": "code",
   "execution_count": 24,
   "id": "6e017c37",
   "metadata": {},
   "outputs": [
    {
     "data": {
      "text/plain": [
       "200"
      ]
     },
     "execution_count": 24,
     "metadata": {},
     "output_type": "execute_result"
    }
   ],
   "source": [
    "max(list_1)"
   ]
  },
  {
   "cell_type": "code",
   "execution_count": 25,
   "id": "eb1bbc1d",
   "metadata": {},
   "outputs": [
    {
     "data": {
      "text/plain": [
       "12"
      ]
     },
     "execution_count": 25,
     "metadata": {},
     "output_type": "execute_result"
    }
   ],
   "source": [
    "min(list_1)"
   ]
  },
  {
   "cell_type": "code",
   "execution_count": 26,
   "id": "972ac8b5",
   "metadata": {},
   "outputs": [
    {
     "data": {
      "text/plain": [
       "27.72"
      ]
     },
     "execution_count": 26,
     "metadata": {},
     "output_type": "execute_result"
    }
   ],
   "source": [
    "statistics.mean(list_1)"
   ]
  },
  {
   "cell_type": "code",
   "execution_count": 28,
   "id": "0e24864c",
   "metadata": {},
   "outputs": [
    {
     "data": {
      "text/plain": [
       "[12,\n",
       " 12,\n",
       " 13,\n",
       " 13,\n",
       " 13,\n",
       " 13,\n",
       " 14,\n",
       " 14,\n",
       " 14,\n",
       " 14,\n",
       " 14,\n",
       " 15,\n",
       " 15,\n",
       " 15,\n",
       " 15,\n",
       " 16,\n",
       " 16,\n",
       " 16,\n",
       " 17,\n",
       " 17,\n",
       " 18,\n",
       " 18,\n",
       " 19,\n",
       " 150,\n",
       " 200]"
      ]
     },
     "execution_count": 28,
     "metadata": {},
     "output_type": "execute_result"
    }
   ],
   "source": [
    "list_1_sorted = sorted(list_1)\n",
    "list_1_sorted"
   ]
  },
  {
   "cell_type": "markdown",
   "id": "b6228399",
   "metadata": {},
   "source": [
    "Finding the 90th percentile of the data which is 0.9 * 25 (number of scores)  = 22.5 (index) = 23"
   ]
  },
  {
   "cell_type": "code",
   "execution_count": 29,
   "id": "cb7f7b6e",
   "metadata": {},
   "outputs": [
    {
     "data": {
      "text/plain": [
       "150"
      ]
     },
     "execution_count": 29,
     "metadata": {},
     "output_type": "execute_result"
    }
   ],
   "source": [
    "list_1_sorted[23]"
   ]
  },
  {
   "cell_type": "markdown",
   "id": "24a0fbb2",
   "metadata": {},
   "source": [
    "Finding the 30th percentile -> 0.3*25 = 7.5 = 8"
   ]
  },
  {
   "cell_type": "code",
   "execution_count": 30,
   "id": "d247111a",
   "metadata": {},
   "outputs": [
    {
     "data": {
      "text/plain": [
       "14"
      ]
     },
     "execution_count": 30,
     "metadata": {},
     "output_type": "execute_result"
    }
   ],
   "source": [
    "list_1_sorted[8]"
   ]
  },
  {
   "cell_type": "markdown",
   "id": "19274bdd",
   "metadata": {},
   "source": [
    "IQR = Q3-Q1   \n",
    "75 percentile - 25 percentile.  \n",
    "\n",
    "0.75*25 = 18.75 = 19.  \n",
    "0.25 * 25 = 6.25 = 6"
   ]
  },
  {
   "cell_type": "code",
   "execution_count": 38,
   "id": "6a4ae5c2",
   "metadata": {},
   "outputs": [
    {
     "data": {
      "text/plain": [
       "np.float64(3.0)"
      ]
     },
     "execution_count": 38,
     "metadata": {},
     "output_type": "execute_result"
    }
   ],
   "source": [
    "Q1 = np.percentile(list_1_sorted, 25)\n",
    "Q3 = np.percentile(list_1_sorted, 75)\n",
    "\n",
    "IQR = Q3-Q1\n",
    "IQR"
   ]
  },
  {
   "cell_type": "code",
   "execution_count": 39,
   "id": "80c2fdb8",
   "metadata": {},
   "outputs": [
    {
     "name": "stdout",
     "output_type": "stream",
     "text": [
      "9.5 21.5\n"
     ]
    }
   ],
   "source": [
    "lower_bound = Q1-1.5*IQR\n",
    "upper_bound = Q3+1.5*IQR\n",
    "\n",
    "print(lower_bound, upper_bound)"
   ]
  },
  {
   "cell_type": "markdown",
   "id": "e8ef1fc7",
   "metadata": {},
   "source": [
    "any data point below 9.5 and above 21.5 is considered to be an outlier"
   ]
  }
 ],
 "metadata": {
  "kernelspec": {
   "display_name": "venv",
   "language": "python",
   "name": "python3"
  },
  "language_info": {
   "codemirror_mode": {
    "name": "ipython",
    "version": 3
   },
   "file_extension": ".py",
   "mimetype": "text/x-python",
   "name": "python",
   "nbconvert_exporter": "python",
   "pygments_lexer": "ipython3",
   "version": "3.10.13"
  }
 },
 "nbformat": 4,
 "nbformat_minor": 5
}
